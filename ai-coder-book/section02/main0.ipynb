{
 "cells": [
  {
   "cell_type": "code",
   "execution_count": 1,
   "metadata": {},
   "outputs": [],
   "source": [
    "class Perceptron:\n",
    "    def __init__(self, eta=0.01, iterations=10):\n",
    "        self.lr = eta   # 训练步长(学习率)\n",
    "        self.iterations = iterations    # 迭代次数\n",
    "        self.w = 0.0    # 权重\n",
    "        self.bias = 0.0\n",
    "    \n",
    "    def fit(self, X, Y):\n",
    "        for _ in range(self.iterations):\n",
    "            for i in range(len(X)):\n",
    "                x = X[i]\n",
    "                y = Y[i]\n",
    "                # 首先获取 (真实值-预测值) * 学习率\n",
    "                update = self.lr * (y - self.predict(x))\n",
    "                # 对w和bias进行调整\n",
    "                self.w += update * x\n",
    "                self.bias += update\n",
    "\n",
    "    def predict(self, x):\n",
    "        return 1.0 if self.net_input(x) > 0.0 else 0.0\n",
    "\n",
    "    def net_input(self, x):\n",
    "        return self.w * x + self.bias"
   ]
  },
  {
   "cell_type": "code",
   "execution_count": 2,
   "metadata": {},
   "outputs": [],
   "source": [
    "x = [1, 2, 3, 10, 20, -2, -10, -100, -5, -20]\n",
    "y = [1.0, 1.0, 1.0, 1.0, 1.0, 0.0, 0.0, 0.0, 0.0, 0.0]\n",
    "\n",
    "model = Perceptron()\n",
    "model.fit(x, y)"
   ]
  },
  {
   "cell_type": "code",
   "execution_count": 3,
   "metadata": {},
   "outputs": [
    {
     "name": "stdout",
     "output_type": "stream",
     "text": [
      "raw: 30 => predict 1.0\n",
      "raw: 40 => predict 1.0\n",
      "raw: -20 => predict 0.0\n",
      "raw: -60 => predict 0.0\n"
     ]
    }
   ],
   "source": [
    "# 预测结果\n",
    "test_x = [30, 40, -20, -60]\n",
    "for i in range(len(test_x)):\n",
    "    predict_val = model.predict(test_x[i])\n",
    "    print(f'raw: {test_x[i]} => predict {predict_val}')"
   ]
  },
  {
   "cell_type": "code",
   "execution_count": 4,
   "metadata": {},
   "outputs": [
    {
     "name": "stdout",
     "output_type": "stream",
     "text": [
      "0.01\n",
      "0.01\n"
     ]
    }
   ],
   "source": [
    "# 输出w和bias\n",
    "\n",
    "print(model.w)\n",
    "print(model.bias)"
   ]
  }
 ],
 "metadata": {
  "kernelspec": {
   "display_name": "Python 3",
   "language": "python",
   "name": "python3"
  },
  "language_info": {
   "codemirror_mode": {
    "name": "ipython",
    "version": 3
   },
   "file_extension": ".py",
   "mimetype": "text/x-python",
   "name": "python",
   "nbconvert_exporter": "python",
   "pygments_lexer": "ipython3",
   "version": "3.10.4"
  },
  "orig_nbformat": 4
 },
 "nbformat": 4,
 "nbformat_minor": 2
}
