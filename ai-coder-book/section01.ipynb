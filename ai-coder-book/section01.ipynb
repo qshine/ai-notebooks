{
 "cells": [
  {
   "attachments": {},
   "cell_type": "markdown",
   "metadata": {},
   "source": [
    "用TensorFlow自带的Keras实现对正负数分类"
   ]
  },
  {
   "cell_type": "code",
   "execution_count": 46,
   "metadata": {},
   "outputs": [],
   "source": [
    "import tensorflow as tf\n",
    "from tensorflow.keras.models import Sequential\n",
    "from tensorflow.keras.layers import Dense"
   ]
  },
  {
   "cell_type": "code",
   "execution_count": 47,
   "metadata": {},
   "outputs": [],
   "source": [
    "# 建立一个两层神经网络模型\n",
    "model = Sequential()\n",
    "\n",
    "# 第一层: input_dim=1表示只有一个输入 units=8定义有8个输出\n",
    "model.add(Dense(units=8, activation='relu', input_dim=1))\n",
    "# 第二层: 接收第一层的8个输出, 然后units=1表示只有一个输出\n",
    "model.add(Dense(units=1, activation='sigmoid'))\n",
    "\n",
    "# 使用平均方差作为损失函数, 随机梯度下降进行优化\n",
    "model.compile(loss='mean_squared_error', optimizer='sgd')"
   ]
  },
  {
   "cell_type": "code",
   "execution_count": 48,
   "metadata": {},
   "outputs": [
    {
     "name": "stdout",
     "output_type": "stream",
     "text": [
      "Epoch 1/10\n",
      "3/3 [==============================] - 1s 5ms/step - loss: 0.4803\n",
      "Epoch 2/10\n",
      "3/3 [==============================] - 0s 3ms/step - loss: 0.4639\n",
      "Epoch 3/10\n",
      "3/3 [==============================] - 0s 3ms/step - loss: 0.4476\n",
      "Epoch 4/10\n",
      "3/3 [==============================] - 0s 3ms/step - loss: 0.4256\n",
      "Epoch 5/10\n",
      "3/3 [==============================] - 0s 3ms/step - loss: 0.4026\n",
      "Epoch 6/10\n",
      "3/3 [==============================] - 0s 4ms/step - loss: 0.3534\n",
      "Epoch 7/10\n",
      "3/3 [==============================] - 0s 4ms/step - loss: 0.1369\n",
      "Epoch 8/10\n",
      "3/3 [==============================] - 0s 4ms/step - loss: 0.0833\n",
      "Epoch 9/10\n",
      "3/3 [==============================] - 0s 3ms/step - loss: 0.0810\n",
      "Epoch 10/10\n",
      "3/3 [==============================] - 0s 3ms/step - loss: 0.0779\n"
     ]
    },
    {
     "data": {
      "text/plain": [
       "<keras.callbacks.History at 0x7f15256e2200>"
      ]
     },
     "execution_count": 48,
     "metadata": {},
     "output_type": "execute_result"
    }
   ],
   "source": [
    "x = [1, 2, 3, 10, 20, -2, -10, -100, -5, -20]\n",
    "y = [1.0, 1.0, 1.0, 1.0, 1.0, 0.0, 0.0, 0.0, 0.0, 0.0]\n",
    "\n",
    "# epochs: 训练10次\n",
    "# batch_size: 每次都随机挑选4组数据\n",
    "model.fit(x, y, epochs=10, batch_size=4)"
   ]
  },
  {
   "cell_type": "code",
   "execution_count": 49,
   "metadata": {},
   "outputs": [
    {
     "name": "stdout",
     "output_type": "stream",
     "text": [
      "1/1 [==============================] - 0s 73ms/step\n",
      "raw: 30 => predict [0.9925783]\n",
      "raw: 40 => predict [0.99853426]\n",
      "raw: -20 => predict [0.00944159]\n",
      "raw: -60 => predict [9.022484e-07]\n"
     ]
    }
   ],
   "source": [
    "test_x = [30,40,-20,-60]\n",
    "test_y = model.predict(test_x)\n",
    "\n",
    "# 所有正数的预测值都非常接近1，所有负数的预测值都小于0.1\n",
    "for i in range(len(test_x)):\n",
    "    print(f'raw: {test_x[i]} => predict {test_y[i]}')"
   ]
  }
 ],
 "metadata": {
  "kernelspec": {
   "display_name": "Python 3 (ipykernel)",
   "language": "python",
   "name": "python3"
  },
  "language_info": {
   "codemirror_mode": {
    "name": "ipython",
    "version": 3
   },
   "file_extension": ".py",
   "mimetype": "text/x-python",
   "name": "python",
   "nbconvert_exporter": "python",
   "pygments_lexer": "ipython3",
   "version": "3.10.4"
  },
  "orig_nbformat": 4
 },
 "nbformat": 4,
 "nbformat_minor": 2
}
