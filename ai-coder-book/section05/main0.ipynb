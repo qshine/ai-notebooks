{
 "cells": [
  {
   "attachments": {},
   "cell_type": "markdown",
   "metadata": {},
   "source": [
    "LR模型在推荐场景下的应用"
   ]
  },
  {
   "cell_type": "code",
   "execution_count": 25,
   "metadata": {},
   "outputs": [],
   "source": [
    "import pandas as pd\n",
    "from sklearn.linear_model import LogisticRegression\n",
    "from sklearn.metrics import roc_auc_score\n",
    "from sklearn.model_selection import train_test_split\n",
    "\n",
    "movies_path = '../../data/ai-coder-book/ml-latest-small//movies.csv'\n",
    "ratings_path = '../../data/ai-coder-book/ml-latest-small/ratings.csv'"
   ]
  },
  {
   "cell_type": "code",
   "execution_count": 26,
   "metadata": {},
   "outputs": [],
   "source": [
    "def convert_2_one_hot(df):\n",
    "    '''\n",
    "    genres转换为one hot特征\n",
    "    '''\n",
    "    genres_vals = df['genres'].values.tolist()\n",
    "    genres_set = set()\n",
    "    for row in genres_vals:\n",
    "        genres_set.update(row.split('|'))\n",
    "    genres_list = list(genres_set)\n",
    "    row_num = 0\n",
    "    df_new = pd.DataFrame(columns=genres_list)\n",
    "    for row in genres_vals:\n",
    "        init_genres_vals = [0] * len(genres_list)\n",
    "        genres_names = row.split('|')\n",
    "        for name in genres_names:\n",
    "            init_genres_vals[genres_list.index(name)] = 1\n",
    "        df_new.loc[row_num] = init_genres_vals\n",
    "        row_num += 1\n",
    "    \n",
    "    df_update = pd.concat([df, df_new], axis=1)\n",
    "    return df_update\n",
    "\n",
    "\n",
    "def convert_rating_2_labels(ratings):\n",
    "    '''\n",
    "    把rating转换为 0 1分类\n",
    "    '''\n",
    "    label = []\n",
    "    ratings_list = ratings.values.tolist()\n",
    "    for rate in ratings_list:\n",
    "        if rate >= 3.0:\n",
    "            label.append(1)\n",
    "        else:\n",
    "            label.append(0)\n",
    "    return label\n",
    "\n",
    "\n",
    "def training_lr(X, y):\n",
    "    model = LogisticRegression(penalty='l2', C=1, solver='sag', max_iter=500, verbose=1, n_jobs=8)\n",
    "    X_train, X_test, y_train, y_test = train_test_split(X, y, test_size=0.1, random_state=42)\n",
    "\n",
    "    model.fit(X_train, y_train)\n",
    "    train_pred = model.predict_proba(X_train)\n",
    "    train_auc = roc_auc_score(y_train, train_pred[:, 1])\n",
    "\n",
    "    test_pred = model.predict_proba(X_test)\n",
    "    test_auc = roc_auc_score(y_test, test_pred[:, 1])\n",
    "\n",
    "    print('lr train auc score: ' + str(train_auc))\n",
    "    print('lr test auc score: ' + str(test_auc))\n"
   ]
  },
  {
   "cell_type": "code",
   "execution_count": 27,
   "metadata": {},
   "outputs": [],
   "source": [
    "def load_data():\n",
    "    movie_df = pd.read_csv(movies_path)\n",
    "    rating_df = pd.read_csv(ratings_path)\n",
    "    \n",
    "    df_update = convert_2_one_hot(movie_df)\n",
    "    df_final = pd.merge(rating_df, df_update, on=\"movieId\")\n",
    "\n",
    "    ratings = df_final[\"rating\"]\n",
    "    df_final = df_final.drop(columns=['userId', 'movieId', 'timestamp', 'title', 'genres', 'rating'])\n",
    "    labels = convert_rating_2_labels(ratings)\n",
    "    trainx = df_final.values.tolist()\n",
    "    return trainx, labels"
   ]
  },
  {
   "cell_type": "code",
   "execution_count": 28,
   "metadata": {},
   "outputs": [
    {
     "name": "stderr",
     "output_type": "stream",
     "text": [
      "[Parallel(n_jobs=8)]: Using backend ThreadingBackend with 8 concurrent workers.\n"
     ]
    },
    {
     "name": "stdout",
     "output_type": "stream",
     "text": [
      "Epoch 1, change: 1.00000000\n",
      "Epoch 2, change: 1.19669647\n",
      "Epoch 3, change: 0.99005859\n",
      "Epoch 4, change: 0.57897982\n",
      "Epoch 5, change: 0.34149755\n",
      "Epoch 6, change: 0.25703338\n",
      "Epoch 7, change: 0.13461587\n",
      "Epoch 8, change: 0.20277361\n",
      "Epoch 9, change: 0.10547674\n",
      "Epoch 10, change: 0.07455049\n",
      "Epoch 11, change: 0.04961816\n",
      "Epoch 12, change: 0.04026811\n",
      "Epoch 13, change: 0.01800596\n",
      "Epoch 14, change: 0.00951108\n",
      "Epoch 15, change: 0.00846731\n",
      "Epoch 16, change: 0.00921798\n",
      "Epoch 17, change: 0.00263897\n",
      "Epoch 18, change: 0.00249077\n",
      "Epoch 19, change: 0.00218788\n",
      "Epoch 20, change: 0.00151322\n",
      "Epoch 21, change: 0.00085741\n",
      "Epoch 22, change: 0.00056500\n",
      "Epoch 23, change: 0.00042417\n",
      "Epoch 24, change: 0.00030208\n",
      "Epoch 25, change: 0.00024478\n",
      "convergence after 26 epochs took 1 seconds\n"
     ]
    },
    {
     "name": "stderr",
     "output_type": "stream",
     "text": [
      "[Parallel(n_jobs=8)]: Done   1 out of   1 | elapsed:    1.0s finished\n"
     ]
    },
    {
     "name": "stdout",
     "output_type": "stream",
     "text": [
      "lr train auc score: 0.6203025337645236\n",
      "lr test auc score: 0.6082834353762431\n"
     ]
    }
   ],
   "source": [
    "trainx, labels = load_data()\n",
    "training_lr(trainx, labels)"
   ]
  }
 ],
 "metadata": {
  "kernelspec": {
   "display_name": "Python 3",
   "language": "python",
   "name": "python3"
  },
  "language_info": {
   "codemirror_mode": {
    "name": "ipython",
    "version": 3
   },
   "file_extension": ".py",
   "mimetype": "text/x-python",
   "name": "python",
   "nbconvert_exporter": "python",
   "pygments_lexer": "ipython3",
   "version": "3.10.4"
  },
  "orig_nbformat": 4
 },
 "nbformat": 4,
 "nbformat_minor": 2
}
