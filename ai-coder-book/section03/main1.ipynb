{
 "cells": [
  {
   "attachments": {},
   "cell_type": "markdown",
   "metadata": {},
   "source": [
    "房屋价格预测"
   ]
  },
  {
   "cell_type": "code",
   "execution_count": 15,
   "metadata": {},
   "outputs": [],
   "source": [
    "from tensorflow.keras.models import Sequential\n",
    "from tensorflow.keras.layers import Dense\n",
    "from tensorflow.keras.datasets import boston_housing\n",
    "\n",
    "def createModel():\n",
    "    # 一个隐藏层, 32个神经元\n",
    "    model = Sequential()\n",
    "    model.add(Dense(32, input_shape=(13,), activation='relu'))\n",
    "    model.add(Dense(1))\n",
    "    model.compile(loss='mean_squared_error', optimizer='adam')\n",
    "    return model\n"
   ]
  },
  {
   "cell_type": "code",
   "execution_count": 21,
   "metadata": {},
   "outputs": [
    {
     "name": "stdout",
     "output_type": "stream",
     "text": [
      "(404, 13)\n",
      "(404,)\n"
     ]
    }
   ],
   "source": [
    "(x_train, y_train), (x_test, y_test) = boston_housing.load_data()\n",
    "\n",
    "print(x_train.shape)    # 有404组数据, 每组有13个特征\n",
    "print(y_train.shape)"
   ]
  },
  {
   "cell_type": "code",
   "execution_count": null,
   "metadata": {},
   "outputs": [],
   "source": [
    "model = createModel()\n",
    "model.fit(x_train, y_train, batch_size=8, epochs=1000)\n",
    "\n",
    "print(model.metrics_names)\n",
    "print(model.evaluate(x_test, y_test))"
   ]
  },
  {
   "cell_type": "code",
   "execution_count": 17,
   "metadata": {},
   "outputs": [
    {
     "name": "stdout",
     "output_type": "stream",
     "text": [
      "1/1 [==============================] - 0s 82ms/step\n",
      "predict:10.747824668884277    target:7.2\n",
      "1/1 [==============================] - 0s 15ms/step\n",
      "predict:17.032350540161133    target:18.8\n",
      "1/1 [==============================] - 0s 15ms/step\n",
      "predict:22.301855087280273    target:19.0\n",
      "1/1 [==============================] - 0s 15ms/step\n",
      "predict:34.011444091796875    target:27.0\n",
      "1/1 [==============================] - 0s 15ms/step\n",
      "predict:23.00823402404785    target:22.2\n",
      "1/1 [==============================] - 0s 16ms/step\n",
      "predict:21.54153060913086    target:24.5\n",
      "1/1 [==============================] - 0s 16ms/step\n",
      "predict:29.631248474121094    target:31.2\n",
      "1/1 [==============================] - 0s 16ms/step\n",
      "predict:20.8752384185791    target:22.9\n",
      "1/1 [==============================] - 0s 15ms/step\n",
      "predict:18.338518142700195    target:20.5\n",
      "1/1 [==============================] - 0s 15ms/step\n",
      "predict:20.78778076171875    target:23.2\n"
     ]
    }
   ],
   "source": [
    "# 查看前10项预测结果\n",
    "import numpy as np\n",
    "\n",
    "for i in range(10):\n",
    "    y_pred = model.predict(np.asarray([x_test[i]]))\n",
    "    print(f'predict:{y_pred[0][0]}    target:{y_test[i]}')"
   ]
  }
 ],
 "metadata": {
  "kernelspec": {
   "display_name": "Python 3",
   "language": "python",
   "name": "python3"
  },
  "language_info": {
   "codemirror_mode": {
    "name": "ipython",
    "version": 3
   },
   "file_extension": ".py",
   "mimetype": "text/x-python",
   "name": "python",
   "nbconvert_exporter": "python",
   "pygments_lexer": "ipython3",
   "version": "3.10.4"
  },
  "orig_nbformat": 4
 },
 "nbformat": 4,
 "nbformat_minor": 2
}
